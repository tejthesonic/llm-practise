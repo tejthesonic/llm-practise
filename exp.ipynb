{
 "cells": [
  {
   "cell_type": "code",
   "execution_count": 1,
   "id": "c988c108",
   "metadata": {},
   "outputs": [
    {
     "name": "stderr",
     "output_type": "stream",
     "text": [
      "e:\\llm\\.venv\\lib\\site-packages\\tqdm\\auto.py:21: TqdmWarning: IProgress not found. Please update jupyter and ipywidgets. See https://ipywidgets.readthedocs.io/en/stable/user_install.html\n",
      "  from .autonotebook import tqdm as notebook_tqdm\n"
     ]
    }
   ],
   "source": [
    "import gradio as gr\n",
    "import base64\n",
    "import os\n",
    "from openai import OpenAI  # Assuming Gemini is using OpenAI-compatible SDK\n",
    "import pytesseract\n"
   ]
  },
  {
   "cell_type": "code",
   "execution_count": 2,
   "id": "6683055d",
   "metadata": {},
   "outputs": [],
   "source": [
    "with open(\"gemini_api_kay\", \"r\") as file:\n",
    "    api_key_gem = file.read().strip()\n",
    "\n",
    "os.environ[\"API_KEY_GEM\"] = api_key_gem"
   ]
  },
  {
   "cell_type": "code",
   "execution_count": 5,
   "id": "f5780bdc",
   "metadata": {},
   "outputs": [],
   "source": [
    "'''\n",
    "# Convert image to base64 string\n",
    "def image_to_base64(image):\n",
    "    buffered = image.convert(\"RGB\")\n",
    "    with open(\"temp.png\", \"wb\") as f:\n",
    "        buffered.save(f, format=\"PNG\")\n",
    "    with open(\"temp.png\", \"rb\") as img_file:\n",
    "        return base64.b64encode(img_file.read()).decode(\"utf-8\")\n",
    "'''\n",
    "#Scrapping image and getting OCR data\n",
    "def image_to_ocr(image):\n",
    "    try:\n",
    "        if not isinstance(image, Image.Image):\n",
    "            return \"Invalid image format\"\n",
    "        return pytesseract.image_to_string(image)\n",
    "    except Exception as e:\n",
    "        return f\"Error extracting text: {str(e)}\""
   ]
  },
  {
   "cell_type": "code",
   "execution_count": 6,
   "id": "d4cef179",
   "metadata": {},
   "outputs": [
    {
     "data": {
      "text/plain": [
       "'\\nbefore_text = image_to_ocr(before_img)\\nafter_text = image_to_ocr(after_img)\\n'"
      ]
     },
     "execution_count": 6,
     "metadata": {},
     "output_type": "execute_result"
    }
   ],
   "source": [
    "'''\n",
    "before_text = image_to_ocr(before_img)\n",
    "after_text = image_to_ocr(after_img)\n",
    "'''"
   ]
  },
  {
   "cell_type": "code",
   "execution_count": 7,
   "id": "d417b840",
   "metadata": {},
   "outputs": [
    {
     "name": "stdout",
     "output_type": "stream",
     "text": [
      "* Running on local URL:  http://127.0.0.1:7861\n",
      "* To create a public link, set `share=True` in `launch()`.\n"
     ]
    },
    {
     "data": {
      "text/html": [
       "<div><iframe src=\"http://127.0.0.1:7861/\" width=\"100%\" height=\"500\" allow=\"autoplay; camera; microphone; clipboard-read; clipboard-write;\" frameborder=\"0\" allowfullscreen></iframe></div>"
      ],
      "text/plain": [
       "<IPython.core.display.HTML object>"
      ]
     },
     "metadata": {},
     "output_type": "display_data"
    },
    {
     "data": {
      "text/plain": []
     },
     "execution_count": 7,
     "metadata": {},
     "output_type": "execute_result"
    }
   ],
   "source": [
    "client=OpenAI(\n",
    "    api_key=os.environ[\"API_KEY_GEM\"],\n",
    "    base_url=\"https://generativelanguage.googleapis.com/v1beta/openai/\"\n",
    ")\n",
    "model = \"gemini-2.5-flash-preview-05-20\"\n",
    "\n",
    "def compare_dashboards_ocr_only(before_img, after_img):\n",
    "    if before_img is None or after_img is None:\n",
    "        return \"❗ Please upload both BEFORE and AFTER dashboard images.\"\n",
    "    \n",
    "    before_text = image_to_ocr(before_img)\n",
    "    after_text = image_to_ocr(after_img)\n",
    "    \n",
    "    messeges = [\n",
    "        {\n",
    "            \"role\": \"system\",\n",
    "            \"content\": \"\"\"You are an expert data analyst assistant.\n",
    "Analyze the two provided OCR data of images of a data analyst dashboard.\n",
    "The first OCR image text is the 'BEFORE' version.\n",
    "The second OCR image text is the 'AFTER' version.\n",
    "\n",
    "Please carefully compare them and provide a detailed, itemized list of the changes. Focus on:\n",
    "1. Changes in chart types, data displayed within charts (e.g., bar heights, line trends, pie slice proportions, new data series, changes in axis scales).\n",
    "2. Modifications to Key Performance Indicator (KPI) values or any other numerical data presented. If a number changed, state the old and new value if discernible.\n",
    "3. Added, removed, or repositioned visual elements (e.g., charts, tables, text boxes, filters, legends, buttons).\n",
    "4. Alterations in titles, labels, or annotations.\n",
    "5. Significant changes in color schemes or overall styling if they impact readability or meaning.\n",
    "6. Changes in dashboard layout or structure.\n",
    "7. Determine if there are any filters present like slicers, pull downs and drill throughs and provide valuable opinions whether the change may or may not be affected because of them.\n",
    "8. Pay close attention to subtle changes in granularity (e.g., drill-down or drill-up actions in charts). This can appear as changes in axis labels (e.g., year vs. quarter), data grouping, or breadcrumb navigations at the top of charts.\n",
    "\n",
    "\n",
    "Be as specific and factual as possible.\"\"\"\n",
    "        },\n",
    "        {\"role\":\"user\",\n",
    "         \"content\":[\n",
    "             {\"type\":\"text\",\"text\": f\"Before Dashboard Text{before_text}\"},\n",
    "             {\"type\":\"text\",\"text\": f\"After Dashboard Text{after_text}\"}\n",
    "             ]\n",
    "             }\n",
    "         ]\n",
    "    \n",
    "    responces = client.chat.completions.create(\n",
    "    model= model,\n",
    "    reasoning_effort=\"high\",\n",
    "    messages= messeges\n",
    "    )\n",
    "\n",
    "    return responces.choices[0].message.content\n",
    "\n",
    "\n",
    "# Gradio UI\n",
    "gr.Interface(\n",
    "    fn=compare_dashboards_ocr_only,\n",
    "    inputs=[\n",
    "        gr.Image(type=\"pil\", label=\"BEFORE Dashboard\"),\n",
    "        gr.Image(type=\"pil\", label=\"AFTER Dashboard\")\n",
    "    ],\n",
    "    outputs=gr.Textbox(label=\"Gemini Analysis Output\"),\n",
    "    title=\"Power BI Dashboard Change Detector\",\n",
    "    description=\"Upload BEFORE and AFTER dashboard screenshots to get a detailed comparison using Gemini LLM.\"\n",
    ").launch()"
   ]
  },
  {
   "cell_type": "code",
   "execution_count": null,
   "id": "78c7e41f",
   "metadata": {},
   "outputs": [],
   "source": [
    "'''\n",
    "# Gemini Client Initialization\n",
    "client = OpenAI(\n",
    "    api_key=os.environ[\"API_KEY_GEM\"],\n",
    "    base_url=\"https://generativelanguage.googleapis.com/v1beta/openai/\"\n",
    ")\n",
    "\n",
    "# Compare images using Gemini\n",
    "def compare_dashboards(before_img, after_img):\n",
    "    if before_img is None or after_img is None:\n",
    "        return \"Please upload both BEFORE and AFTER images.\"\n",
    "\n",
    "    before_b64 = image_to_base64(before_img)\n",
    "    after_b64 = image_to_base64(after_img)\n",
    "\n",
    "    messages = [\n",
    "        {\n",
    "            \"role\": \"system\",\n",
    "            \"content\": \"\"\"You are an expert data analyst assistant.\n",
    "Analyze the two provided images of a data analyst dashboard.\n",
    "The first image is the 'BEFORE' version.\n",
    "The second image is the 'AFTER' version.\n",
    "\n",
    "Please carefully compare them and provide a detailed, itemized list of the changes. Focus on:\n",
    "1. Changes in chart types, data displayed within charts (e.g., bar heights, line trends, pie slice proportions, new data series, changes in axis scales).\n",
    "2. Modifications to Key Performance Indicator (KPI) values or any other numerical data presented. If a number changed, state the old and new value if discernible.\n",
    "3. Added, removed, or repositioned visual elements (e.g., charts, tables, text boxes, filters, legends, buttons).\n",
    "4. Alterations in titles, labels, or annotations.\n",
    "5. Significant changes in color schemes or overall styling if they impact readability or meaning.\n",
    "6. Changes in dashboard layout or structure.\n",
    "7. Determine if there are any filters present like slicers, pull downs and drill throughs and provide valuable opinions whether the change may or may not be affected because of them.\n",
    "8. Pay close attention to subtle changes in granularity (e.g., drill-down or drill-up actions in charts). This can appear as changes in axis labels (e.g., year vs. quarter), data grouping, or breadcrumb navigations at the top of charts.\n",
    "\n",
    "\n",
    "Be as specific and factual as possible.\"\"\"\n",
    "        },\n",
    "        {\n",
    "            \"role\": \"user\",\n",
    "            \"content\": [\n",
    "                {\"type\": \"text\", \"text\": \"There are two images before and after of a power bi dashboard, help me identify the changes\"},\n",
    "                {\"type\": \"image_url\", \"image_url\": {\"url\": f\"data:image/png;base64,{before_b64}\"}},\n",
    "                {\"type\": \"image_url\", \"image_url\": {\"url\": f\"data:image/png;base64,{after_b64}\"}}\n",
    "            ]\n",
    "        }\n",
    "    ]\n",
    "\n",
    "    response = client.chat.completions.create(\n",
    "        model=\"gemini-2.5-flash-preview-05-20\",\n",
    "        reasoning_effort=\"high\",\n",
    "        messages=messages\n",
    "    )\n",
    "\n",
    "    return response.choices[0].message.content\n",
    "\n",
    "# Gradio UI\n",
    "gr.Interface(\n",
    "    fn=compare_dashboards,\n",
    "    inputs=[\n",
    "        gr.Image(type=\"pil\", label=\"BEFORE Dashboard\"),\n",
    "        gr.Image(type=\"pil\", label=\"AFTER Dashboard\")\n",
    "    ],\n",
    "    outputs=gr.Textbox(label=\"Gemini Analysis Output\"),\n",
    "    title=\"Power BI Dashboard Change Detector\",\n",
    "    description=\"Upload BEFORE and AFTER dashboard screenshots to get a detailed comparison using Gemini LLM.\"\n",
    ").launch()\n",
    "'''"
   ]
  }
 ],
 "metadata": {
  "kernelspec": {
   "display_name": ".venv",
   "language": "python",
   "name": "python3"
  },
  "language_info": {
   "codemirror_mode": {
    "name": "ipython",
    "version": 3
   },
   "file_extension": ".py",
   "mimetype": "text/x-python",
   "name": "python",
   "nbconvert_exporter": "python",
   "pygments_lexer": "ipython3",
   "version": "3.10.10"
  }
 },
 "nbformat": 4,
 "nbformat_minor": 5
}
