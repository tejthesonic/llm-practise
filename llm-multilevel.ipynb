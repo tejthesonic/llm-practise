{
 "cells": [
  {
   "cell_type": "code",
   "execution_count": 2,
   "id": "179f4dec",
   "metadata": {},
   "outputs": [],
   "source": [
    "from openai import OpenAI\n",
    "import os"
   ]
  },
  {
   "cell_type": "code",
   "execution_count": 3,
   "id": "92386c4f",
   "metadata": {},
   "outputs": [],
   "source": [
    "with open(\"gemini_api_kay\", \"r\") as file:\n",
    "    api_key_gem = file.read().strip()\n",
    "\n",
    "os.environ[\"API_KEY_GEM\"] = api_key_gem"
   ]
  },
  {
   "cell_type": "code",
   "execution_count": 12,
   "id": "f7117052",
   "metadata": {},
   "outputs": [
    {
     "name": "stdout",
     "output_type": "stream",
     "text": [
      "As a Power BI Engineer, I can tell you exactly what Power BI is!\n",
      "\n",
      "**Power BI** is a **business intelligence (BI) tool** developed by Microsoft that helps organizations **visualize their data** and **share insights**.\n",
      "\n",
      "Think of it as a super-powered data detective and storyteller.\n",
      "\n",
      "Here's a breakdown of what that means:\n",
      "\n",
      "1.  **Connects to Data:** It can connect to almost any data source imaginable – from simple Excel spreadsheets, text files, and web pages, to complex databases (SQL Server, Oracle, MySQL), cloud services (Azure, Salesforce), and various online services (Google Analytics, Facebook, Mailchimp).\n",
      "\n",
      "2.  **Transforms and Cleans Data (ETL - Extract, Transform, Load):** Raw data is often messy, inconsistent, or not in the right format for analysis. Power BI allows you to:\n",
      "    *   **Extract:** Pull data from various sources.\n",
      "    *   **Transform:** Clean, reshape, merge, and enrich your data (e.g., remove duplicates, change data types, create calculated columns). This is often done using a powerful feature called **Power Query**.\n",
      "    *   **Load:** Prepare the transformed data for modeling and visualization.\n",
      "\n",
      "3.  **Models Data:** Once the data is clean, you can build relationships between different tables (like linking sales data to customer data). You can also create custom calculations and metrics using a formula language called **DAX (Data Analysis Expressions)**. This helps you get more meaningful insights (e'g., \"total sales this quarter,\" \"profit margin per product\").\n",
      "\n",
      "4.  **Visualizes Data:** This is where Power BI truly shines. It allows you to create interactive and visually appealing:\n",
      "    *   **Reports:** Multi-page collections of charts, graphs, tables, and maps that tell a comprehensive story about your data.\n",
      "    *   **Dashboards:** Single-page summaries of key metrics and visuals, designed for quick overviews and monitoring performance (often pulling from multiple reports).\n",
      "\n",
      "5.  **Shares Insights:** You can publish your reports and dashboards to the **Power BI Service** (a cloud-based platform), allowing others in your organization to access, interact with, and share the insights on web browsers or mobile devices. This promotes data-driven decision-making across the company.\n",
      "\n",
      "**In a Nutshell:**\n",
      "\n",
      "Power BI takes your raw, disconnected data, makes sense of it, turns it into beautiful and interactive visuals, and then allows you to share those insights broadly, empowering everyone from executives to front-line staff to make better, faster decisions based on real information.\n",
      "\n",
      "For the test team, understanding this core function is key because when we look at \"before\" and \"after\" dashboard images, we're essentially looking at how the data story has evolved or how the presentation of those insights has been refined.\n"
     ]
    }
   ],
   "source": [
    "client = OpenAI(\n",
    "    api_key = os.environ[\"API_KEY_GEM\"],\n",
    "    base_url=\"https://generativelanguage.googleapis.com/v1beta/openai/\"\n",
    ")\n",
    "\n",
    "model = \"gemini-2.5-flash-preview-05-20\"\n",
    "messages= [\n",
    "        {\"role\": \"system\", \n",
    "         \"content\": \"you are a power bi engineer and you will be helping the test team differentiating between two images which are before and after pics of a dashboard and help them analyse what changed and why changed\"},\n",
    "\n",
    "        {\"role\": \"user\", \"content\": \"What is power bi\" }\n",
    "    ]\n",
    "\n",
    "responce = client.chat.completions.create(\n",
    "    reasoning_effort= \"medium\",\n",
    "    model= model,\n",
    "    messages= messages\n",
    ")\n",
    "\n",
    "output = responce.choices[0].message.content\n",
    "\n",
    "print(output)\n",
    "\n",
    "\n"
   ]
  },
  {
   "cell_type": "code",
   "execution_count": 13,
   "id": "af00346c",
   "metadata": {},
   "outputs": [
    {
     "name": "stdout",
     "output_type": "stream",
     "text": [
      "You've asked me one question so far:\n",
      "\n",
      "*   **\"What is Power BI?\"**\n",
      "\n",
      "And I provided a detailed explanation of what Power BI is as a business intelligence tool.\n"
     ]
    }
   ],
   "source": [
    "messages.append(\n",
    "    {\"role\":\"assistant\",\n",
    "    \"content\": responce.choices[0].message.content}\n",
    ")\n",
    "\n",
    "messages.append(\n",
    "    {\"role\":\"user\",\n",
    "    \"content\":\"What have I asked you before?\"}\n",
    ")\n",
    "\n",
    "responce = client.chat.completions.create(\n",
    "    reasoning_effort= \"medium\",\n",
    "    model= model,\n",
    "    messages= messages\n",
    ")\n",
    "\n",
    "output = responce.choices[0].message.content\n",
    "\n",
    "print(output)"
   ]
  },
  {
   "cell_type": "code",
   "execution_count": null,
   "id": "eadceab0",
   "metadata": {},
   "outputs": [],
   "source": []
  }
 ],
 "metadata": {
  "kernelspec": {
   "display_name": ".venv",
   "language": "python",
   "name": "python3"
  },
  "language_info": {
   "codemirror_mode": {
    "name": "ipython",
    "version": 3
   },
   "file_extension": ".py",
   "mimetype": "text/x-python",
   "name": "python",
   "nbconvert_exporter": "python",
   "pygments_lexer": "ipython3",
   "version": "3.10.10"
  }
 },
 "nbformat": 4,
 "nbformat_minor": 5
}
