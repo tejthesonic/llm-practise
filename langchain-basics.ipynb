{
 "cells": [
  {
   "cell_type": "code",
   "execution_count": 29,
   "id": "411342b4",
   "metadata": {},
   "outputs": [],
   "source": [
    "import os\n",
    "from secret_key import gem_ai_key\n"
   ]
  },
  {
   "cell_type": "code",
   "execution_count": 30,
   "id": "679f5a41",
   "metadata": {},
   "outputs": [],
   "source": [
    "os.environ['GOOGLE_API_KEY'] = gem_ai_key"
   ]
  },
  {
   "cell_type": "code",
   "execution_count": 31,
   "id": "aea36ecc",
   "metadata": {},
   "outputs": [],
   "source": [
    "from prompt import llmprompt\n",
    "# Did print just to check\n",
    "#print(llmprompt)"
   ]
  },
  {
   "cell_type": "code",
   "execution_count": 32,
   "id": "05afbf0c",
   "metadata": {},
   "outputs": [],
   "source": [
    "from langchain_google_genai import ChatGoogleGenerativeAI\n",
    "from langchain_core.messages import HumanMessage,SystemMessage"
   ]
  },
  {
   "cell_type": "code",
   "execution_count": null,
   "id": "8d3067de",
   "metadata": {},
   "outputs": [
    {
     "name": "stdout",
     "output_type": "stream",
     "text": [
      "rich girl and a guy from another world who accidentally came to earth from a portal | Length: Epic | Genre: Adventure | Tone: Tragic | Audience: Adult\n"
     ]
    }
   ],
   "source": [
    "#code for user input\n",
    "'''\n",
    "We basically have four caterories\n",
    "Category 1: Classification by Length (Word Count)\n",
    "Category 2: Classification by Genre\n",
    "Category 3: Classification by Tone\n",
    "Category 4: Classification by Target Audience\n",
    "we need to make user prompt in a way that they include these four\n",
    "'''\n",
    "um = input(\"What should be the story about? \")\n",
    "Category1 = \"Epic\"\n",
    "Category2 = \"Adventure\"\n",
    "Category3 = \"Tragic\"\n",
    "Category4 = \"Adult\"\n",
    "\n",
    "# Using an f-string for clean formatting\n",
    "up = f\"{um} | Length: {Category1} | Genre: {Category2} | Tone: {Category3} | Audience: {Category4}\"\n",
    "text = \"\"\n",
    "um == text \n",
    "\n",
    "print(up)"
   ]
  },
  {
   "cell_type": "code",
   "execution_count": 34,
   "id": "c83a25c8",
   "metadata": {},
   "outputs": [],
   "source": [
    "#rich girl and a guy from another world who accidentally came to earth from a portal"
   ]
  },
  {
   "cell_type": "code",
   "execution_count": 35,
   "id": "29165d71",
   "metadata": {},
   "outputs": [
    {
     "name": "stdout",
     "output_type": "stream",
     "text": [
      "Here's the story:\n",
      "\n",
      "**Title:** Echoes of Xylos\n",
      "\n",
      "**Part 1: Gilded Cage**\n",
      "\n",
      "Isabelle Moreau was a prisoner of gilded bars. Not literal ones, of course. Her cage was woven from silk, spun from generational wealth, and locked with expectations. The Moreau family name echoed through the halls of their Manhattan penthouse, a constant reminder of her duty: marry well, produce an heir, and maintain the family’s legacy. Her heart, however, yearned for something beyond galas and trust funds.\n",
      "\n",
      "She found solace in the city’s hidden corners, the dive bars in the Lower East Side where she could shed her designer skin and just… be. It was in one of these dimly lit sanctuaries that she first saw him.\n",
      "\n",
      "He was a storm in human form, all sharp angles and bewildered eyes. He stood out like a comet in a starless sky. His clothes were strange, woven from materials she couldn’t identify, and his silver hair seemed to catch the dim light like spun moonlight. He looked utterly lost.\n",
      "\n",
      "“Are you alright?” Isabelle asked, her carefully constructed indifference crumbling.\n",
      "\n",
      "He blinked, his eyes, the color of molten gold, focusing on her. “Where… where am I?” His voice was a low rumble, accented with a cadence she’d never heard before.\n",
      "\n",
      "“You’re in New York,” she said, cautiously. “Are you… new to the city?”\n",
      "\n",
      "He frowned, a crease forming between his sculpted brows. “New York? This is… not Xylos.”\n",
      "\n",
      "Isabelle, used to the city’s eccentricities, simply raised an eyebrow. “Xylos? Is that a club?”\n",
      "\n",
      "He shook his head, a gesture that sent a cascade of silver hair across his shoulders. “Xylos is… home.”\n",
      "\n",
      "That night, Isabelle, driven by a curiosity she couldn’t suppress, took him back to her penthouse. The contrast was jarring: him, the displaced alien, surrounded by the opulence of her world.\n",
      "\n",
      "**Part 2: Worlds Apart**\n",
      "\n",
      "His name was Kaelen, and his story was as unbelievable as it was captivating. He was a warrior from a world called Xylos, a planet teeming with magic and technology in equal measure. He’d been caught in a spatial anomaly, a tear in the fabric of reality, and flung across the cosmos to Earth.\n",
      "\n",
      "Isabelle, despite her initial skepticism, found herself drawn into his world. He spoke of floating cities powered by harnessed starlight, of creatures that sang symphonies with their minds, of a war that threatened to consume everything. It was a world of breathtaking beauty and terrifying danger, a world that made her own seem pale in comparison.\n",
      "\n",
      "He was equally fascinated by Earth, by its mundane wonders and its strange limitations. He marveled at the simple beauty of a sunset, at the ingenuity of human technology, at the sheer tenacity of the human spirit.\n",
      "\n",
      "As they spent more time together, a bond formed between them, a connection that transcended their vastly different worlds. Isabelle saw in Kaelen a strength and a purpose she desperately craved. He saw in her a kindness and a resilience he hadn’t expected to find on this strange, new world.\n",
      "\n",
      "Their connection deepened into something more, a fragile, impossible love that bloomed in the shadow of the unknown. They found solace in each other’s arms, a refuge from the loneliness of their respective worlds.\n",
      "\n",
      "**Part 3: The Price of Passage**\n",
      "\n",
      "But their idyll was not to last. The anomaly that had brought Kaelen to Earth was not a one-time event. It was a growing instability, a ripple in the fabric of space-time. And it was drawing the attention of those who sought to exploit it.\n",
      "\n",
      "A shadowy organization, aware of Kaelen’s presence and the potential of Xylos, began to hunt him. They saw him as a key, a way to unlock the secrets of another world and claim its resources for themselves.\n",
      "\n",
      "Isabelle, using her family’s vast network of contacts, tried to protect him. But the organization was relentless, their resources seemingly limitless. They closed in, tightening the noose around them.\n",
      "\n",
      "Kaelen knew he couldn’t stay. His presence was a danger to Isabelle, to everyone she cared about. He had to find a way back to Xylos, to close the anomaly and prevent the organization from exploiting it.\n",
      "\n",
      "But the only way to do that was to use a device, a transdimensional resonator, that was unstable and dangerous. It could send him back to Xylos, but it could also tear a hole in reality, unleashing unimaginable horrors upon Earth.\n",
      "\n",
      "**Part 4: Echoes of Loss**\n",
      "\n",
      "The final confrontation took place in the abandoned subway tunnels beneath the city. The organization, led by a ruthless scientist, had cornered them. Kaelen, his silver hair streaked with grime and sweat, stood defiant, shielding Isabelle with his body.\n",
      "\n",
      "“Give us the device,” the scientist sneered, “and we might let her live.”\n",
      "\n",
      "Kaelen’s golden eyes flashed. “I will never let you exploit my world.”\n",
      "\n",
      "A fierce battle erupted. Kaelen, despite his superior training, was outnumbered. Isabelle, armed with nothing but her wit and her unwavering love for him, fought alongside him, a fierce protector in her own right.\n",
      "\n",
      "But they were losing. Kaelen, wounded and exhausted, knew he had only one choice. He activated the resonator, knowing the risk.\n",
      "\n",
      "“Isabelle,” he said, his voice strained, “I have to go. I have to protect Xylos.”\n",
      "\n",
      "Tears streamed down her face. “Don’t leave me, Kaelen. Please.”\n",
      "\n",
      "He reached out, cupping her face in his hands. “I will never forget you. You showed me the beauty of this world, the strength of the human heart.”\n",
      "\n",
      "He kissed her, a searing, desperate kiss that tasted of love and loss. Then, with a final surge of energy, he activated the device.\n",
      "\n",
      "The tunnel filled with blinding light. The air crackled with energy. And then, Kaelen was gone.\n",
      "\n",
      "The anomaly closed, the threat to Earth averted. But Isabelle was left alone, standing in the echoing silence of the subway tunnel, the echoes of Xylos forever imprinted on her heart.\n",
      "\n",
      "She returned to her gilded cage, but she was no longer the same. She had seen another world, felt an impossible love, and lost everything. The echoes of Kaelen’s laughter, the memory of his touch, would forever haunt her, a constant reminder of the price she had paid for a love that transcended worlds.\n",
      "\n",
      "Her heart, once yearning for something more, was now filled with a profound and unyielding sorrow. She was a prisoner of her own grief, forever bound to a love that could never be.\n",
      "\n",
      "**The Classification:** Epic Tragic Adventure/Science Fiction for an Adult audience.\n"
     ]
    }
   ],
   "source": [
    "llm = ChatGoogleGenerativeAI(model=\"gemini-2.0-flash\", api_key=gem_ai_key)\n",
    "\n",
    "# Basic Invoke Method\n",
    "'''\n",
    "responce = llm.invoke(\"sing a lulluby\")\n",
    "print(responce.content)\n",
    "\n",
    "'''\n",
    "#With human and system messege\n",
    "messeges = [\n",
    "    SystemMessage(content = llmprompt),\n",
    "    HumanMessage(content = up)\n",
    "]\n",
    "\n",
    "responce = llm.invoke(messeges)\n",
    "print(responce.content)\n"
   ]
  },
  {
   "cell_type": "code",
   "execution_count": 36,
   "id": "6a8a3979",
   "metadata": {},
   "outputs": [],
   "source": [
    "#everything working out as expected except the llm not respecting the length category in prompt\n"
   ]
  },
  {
   "cell_type": "code",
   "execution_count": 37,
   "id": "e86903a6",
   "metadata": {},
   "outputs": [],
   "source": [
    "from langchain_core.prompts import ChatPromptTemplate\n",
    "\n",
    "prompt_templete = ChatPromptTemplate.from_messages(\n",
    "    [\n",
    "        (\"system\", llmprompt),\n",
    "        (\"user\", f\"{text}, Length: {Category1} | Genre: {Category2} | Tone: {Category3} | Audience: {Category4} \")\n",
    "    ]\n",
    ")"
   ]
  },
  {
   "cell_type": "code",
   "execution_count": 38,
   "id": "af3232af",
   "metadata": {},
   "outputs": [
    {
     "name": "stdout",
     "output_type": "stream",
     "text": [
      "Okay, I will craft an epic and tragic adventure for an adult audience. Here is your story:\n",
      "\n",
      "**Title:** The Obsidian Crown\n",
      "\n",
      "**Part I: The Legacy of Ash**\n",
      "\n",
      "The wind carried whispers of forgotten gods across the obsidian plains of Veridian. Once, Veridian had been the jewel of the seven kingdoms, a land of emerald forests and sapphire rivers. Now, it was a scar upon the world, a testament to the hubris of King Theron and the insatiable hunger of the Obsidian Crown.\n",
      "\n",
      "Anya, barely a woman, remembered the tales her grandmother spun of Veridian's golden age. Tales of knights clad in shimmering armor, of dragons soaring through skies painted with a thousand sunsets, and of a king who ruled with wisdom and compassion. But those were just stories now, echoes in a world consumed by shadow.\n",
      "\n",
      "Anya was a scavenger, one of the few who dared to venture into the ruins of the old cities, searching for scraps of metal or forgotten artifacts to trade for meager rations. She was lean and hardened by the harsh realities of her world, her eyes the color of storm clouds, reflecting the constant turmoil within her.\n",
      "\n",
      "One day, while rummaging through the skeletal remains of a library, Anya stumbled upon a hidden chamber. Inside, she found a scroll bound in dragon hide and an ancient map etched onto a sheet of polished obsidian. The scroll spoke of a prophecy, of a chosen one who would rise to challenge the darkness and restore Veridian to its former glory. The map depicted a path to the heart of the Obsidian Citadel, where the Crown pulsed with malevolent energy.\n",
      "\n",
      "Anya scoffed at the notion of prophecies and chosen ones. She had seen too much suffering, too much death to believe in fairy tales. But as she held the map in her trembling hands, a flicker of hope ignited within her, a spark that had long been dormant.\n",
      "\n",
      "**Part II: The Gathering Storm**\n",
      "\n",
      "Anya's journey began in the desolate wastelands, where she encountered others who had been touched by the darkness and yearned for a glimmer of hope. There was Kael, a former knight of Veridian, his armor tarnished and his spirit broken, haunted by the ghosts of his fallen comrades. There was Lyra, a sorceress whose powers had been twisted by the Crown's influence, struggling to control the darkness within her. And there was Ronan, a rogue with a silver tongue and a hidden heart of gold, seeking redemption for his past sins.\n",
      "\n",
      "Together, they formed an unlikely alliance, bound by a shared desire to reclaim their world from the clutches of the Obsidian Crown. They faced monstrous creatures warped by the Crown's power, navigated treacherous landscapes riddled with ancient traps, and battled the Crown's loyal servants, the Obsidian Guard, who were once the noble protectors of Veridian.\n",
      "\n",
      "As they journeyed deeper into the heart of darkness, Anya discovered that she possessed a unique connection to the land, a latent power that resonated with the ancient magic of Veridian. She learned to harness this power, to heal the wounded earth and to shield her companions from the Crown's corrupting influence.\n",
      "\n",
      "But the Crown was not without its defenses. King Theron, now a mere puppet of the Obsidian Crown, unleashed his most formidable weapon: the Shadow Dragons, creatures of pure darkness that could devour entire cities in a single breath.\n",
      "\n",
      "**Part III: The Price of Glory**\n",
      "\n",
      "The final battle took place within the Obsidian Citadel, a fortress of twisted metal and pulsating energy. Anya and her companions fought valiantly, their skills and courage tested to their limits. Kael faced his former brothers-in-arms, now corrupted by the Crown, and found the strength to strike them down, knowing that he was freeing them from their torment. Lyra confronted the darkness within herself and emerged stronger, her powers now aligned with the light. Ronan sacrificed himself to disable the Citadel's defenses, giving Anya the opportunity to confront King Theron.\n",
      "\n",
      "Anya stood before the king, her heart heavy with sorrow. She saw the man he once was, the wise and compassionate ruler who had been consumed by the Crown's insatiable hunger. With tears in her eyes, she raised her sword and struck him down, freeing him from his eternal torment.\n",
      "\n",
      "But the Obsidian Crown remained, pulsing with malevolent energy, threatening to consume Anya and everything she held dear. She knew that the only way to destroy the Crown was to sacrifice herself, to merge her life force with the ancient magic of Veridian and unleash a wave of purifying energy.\n",
      "\n",
      "With a final, defiant cry, Anya plunged her sword into the heart of the Obsidian Crown. A blinding light erupted, consuming the Citadel and spreading across the land, banishing the darkness and restoring Veridian to its former glory.\n",
      "\n",
      "But Anya was gone, her name forever etched in the annals of Veridian as the savior who sacrificed everything to save her world. The victory was bittersweet, a testament to the enduring power of hope and the tragic price of glory.\n",
      "\n",
      "**Part IV: A New Dawn**\n",
      "\n",
      "In the aftermath of the battle, Veridian began to heal. The emerald forests returned, the sapphire rivers flowed once more, and the skies were once again painted with a thousand sunsets. The survivors of the war emerged from the shadows, ready to rebuild their shattered world.\n",
      "\n",
      "Kael, Lyra, and the other companions of Anya dedicated their lives to honoring her memory and ensuring that the darkness would never return. They established a new order of knights, the Guardians of Veridian, who vowed to protect the land from any future threats. They rebuilt the cities, established schools and libraries, and fostered a culture of peace and prosperity.\n",
      "\n",
      "But even in the midst of their triumph, they could never forget the price they had paid for their freedom. The memory of Anya, the scavenger girl who became a savior, would forever haunt their dreams, a reminder of the sacrifices that were necessary to overcome the darkness.\n",
      "\n",
      "And so, the legend of Anya, the Obsidian Crown, and the tragic rebirth of Veridian was passed down through the generations, a testament to the enduring power of hope, the devastating consequences of hubris, and the eternal struggle between light and darkness.\n"
     ]
    }
   ],
   "source": [
    "prompt = prompt_templete.invoke({\"text\":text,\"Category1\":Category1,\"Category2\":Category2,\"Category3\":Category3,\"Category4\":Category4})\n",
    "\n",
    "responce = llm.invoke(prompt)\n",
    "print(responce.content)"
   ]
  },
  {
   "cell_type": "code",
   "execution_count": 39,
   "id": "66ff8dca",
   "metadata": {},
   "outputs": [
    {
     "data": {
      "text/plain": [
       "'\\nthe prompt templete method seems to be working better the the langchain_core.messege method. Although both have same system and human messeges\\noption, the templete method is useful in accepting inputs without the need of formatting it before feeding it to llm.\\n'"
      ]
     },
     "execution_count": 39,
     "metadata": {},
     "output_type": "execute_result"
    }
   ],
   "source": [
    "'''\n",
    "the prompt templete method seems to be working better the the langchain_core.messege method. Although both have same system and human messeges\n",
    "option, the templete method is useful in accepting inputs without the need of formatting it before feeding it to llm.\n",
    "'''"
   ]
  }
 ],
 "metadata": {
  "kernelspec": {
   "display_name": ".venv",
   "language": "python",
   "name": "python3"
  },
  "language_info": {
   "codemirror_mode": {
    "name": "ipython",
    "version": 3
   },
   "file_extension": ".py",
   "mimetype": "text/x-python",
   "name": "python",
   "nbconvert_exporter": "python",
   "pygments_lexer": "ipython3",
   "version": "3.10.10"
  }
 },
 "nbformat": 4,
 "nbformat_minor": 5
}
